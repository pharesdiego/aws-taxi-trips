{
 "cells": [
  {
   "cell_type": "code",
   "execution_count": 2,
   "metadata": {},
   "outputs": [],
   "source": [
    "import pandas as pd"
   ]
  },
  {
   "cell_type": "markdown",
   "id": "89bdebd4",
   "metadata": {},
   "source": [
    "**times_dim generation**"
   ]
  },
  {
   "cell_type": "code",
   "execution_count": 3,
   "id": "273726c8",
   "metadata": {},
   "outputs": [],
   "source": [
    "times = [(hour, minute, second) \n",
    "         for hour in range(24) \n",
    "         for minute in range(60) \n",
    "         for second in range(60)]\n",
    "\n",
    "df_times = pd.DataFrame(data=times, columns=['hour', 'minute', 'second'])\n",
    "\n",
    "df_times.index.name = 'time_id'\n",
    "\n",
    "df_times.to_csv('times_dim.csv')"
   ]
  },
  {
   "cell_type": "markdown",
   "id": "3b472fb7",
   "metadata": {},
   "source": [
    "**dates_dim generation**"
   ]
  },
  {
   "cell_type": "code",
   "execution_count": 6,
   "id": "9c8f2c80",
   "metadata": {},
   "outputs": [],
   "source": [
    "from io import StringIO\n",
    "\n",
    "dates = pd.date_range(start='2023-01-01', end='2023-12-31')\n",
    "\n",
    "df = pd.DataFrame(dates, columns=['date'])\n",
    "\n",
    "df.index.name = 'date_id'\n",
    "\n",
    "df['year'] = df['date'].dt.year\n",
    "df['month'] = df['date'].dt.month\n",
    "df['day'] = df['date'].dt.day\n",
    "df['weekday'] = df['date'].dt.weekday\n",
    "\n",
    "df_holidays = pd.read_csv(StringIO(\"\"\"date_id,month,day\n",
    "0,1,1\n",
    "15,1,16\n",
    "50,2,20\n",
    "118,4,29\n",
    "169,6,19\n",
    "184,7,4\n",
    "246,9,4\n",
    "326,11,23\n",
    "358,12,25\n",
    "\"\"\"))\n",
    "\n",
    "df['is_holiday'] = df.index.isin(df_holidays['date_id'])\n",
    "\n",
    "df.to_csv('dates_dim.csv')"
   ]
  }
 ],
 "metadata": {
  "kernelspec": {
   "display_name": "Python 3",
   "language": "python",
   "name": "python3"
  },
  "language_info": {
   "codemirror_mode": {
    "name": "ipython",
    "version": 3
   },
   "file_extension": ".py",
   "mimetype": "text/x-python",
   "name": "python",
   "nbconvert_exporter": "python",
   "pygments_lexer": "ipython3",
   "version": "3.10.6"
  }
 },
 "nbformat": 4,
 "nbformat_minor": 5
}
