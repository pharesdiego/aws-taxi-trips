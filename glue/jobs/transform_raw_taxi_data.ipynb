{
	"cells": [
		{
			"cell_type": "code",
			"execution_count": 5,
			"id": "9c191297-5bab-4b07-9e4b-820d40b824a2",
			"metadata": {
				"tags": [],
				"trusted": true,
				"vscode": {
					"languageId": "python_glue_session"
				}
			},
			"outputs": [
				{
					"name": "stdout",
					"output_type": "stream",
					"text": [
						"Welcome to the Glue Interactive Sessions Kernel\n",
						"For more information on available magic commands, please type %help in any new cell.\n",
						"\n",
						"Please view our Getting Started page to access the most up-to-date information on the Interactive Sessions kernel: https://docs.aws.amazon.com/glue/latest/dg/interactive-sessions.html\n",
						"Installed kernel version: 0.38.1 \n",
						"Current idle_timeout is 2800 minutes.\n",
						"idle_timeout has been set to 60 minutes.\n",
						"Setting Glue version to: 3.0\n",
						"Previous worker type: G.1X\n",
						"Setting new worker type to: G.1X\n",
						"Previous number of workers: 5\n",
						"Setting new number of workers to: 2\n"
					]
				}
			],
			"source": [
				"%idle_timeout 60\n",
				"%glue_version 3.0\n",
				"%worker_type G.1X\n",
				"%number_of_workers 2"
			]
		},
		{
			"cell_type": "code",
			"execution_count": 1,
			"id": "c2e55a47-fe70-4bf1-b9a9-c1fb94645c78",
			"metadata": {
				"trusted": true,
				"vscode": {
					"languageId": "python_glue_session"
				}
			},
			"outputs": [
				{
					"name": "stdout",
					"output_type": "stream",
					"text": [
						"Authenticating with environment variables and user-defined glue_role_arn: arn:aws:iam::176256382487:role/almighty\n",
						"Trying to create a Glue session for the kernel.\n",
						"Worker Type: G.1X\n",
						"Number of Workers: 2\n",
						"Session ID: 028c5944-bf45-4406-b44f-427cc3c7abe2\n",
						"Job Type: glueetl\n",
						"Applying the following default arguments:\n",
						"--glue_kernel_version 0.38.1\n",
						"--enable-glue-datacatalog true\n",
						"Waiting for session 028c5944-bf45-4406-b44f-427cc3c7abe2 to get into ready status...\n",
						"Session 028c5944-bf45-4406-b44f-427cc3c7abe2 has been created.\n",
						"\n"
					]
				}
			],
			"source": [
				"import sys\n",
				"from awsglue.transforms import *\n",
				"from awsglue.utils import getResolvedOptions\n",
				"from pyspark.context import SparkContext\n",
				"from awsglue.context import GlueContext\n",
				"from awsglue.job import Job\n",
				"\n",
				"sc = SparkContext.getOrCreate()\n",
				"glueContext = GlueContext(sc)\n",
				"spark = glueContext.spark_session\n",
				"job = Job(glueContext)"
			]
		},
		{
			"cell_type": "code",
			"execution_count": 2,
			"id": "65c15d1d-1d85-4104-94c1-32727ba3eef2",
			"metadata": {
				"tags": [],
				"trusted": true,
				"vscode": {
					"languageId": "python_glue_session"
				}
			},
			"outputs": [
				{
					"name": "stdout",
					"output_type": "stream",
					"text": [
						"\n"
					]
				}
			],
			"source": [
				"dyf = glueContext.create_dynamic_frame.from_catalog(\n",
				"    database='taxitripsdb',\n",
				"    table_name='raw_taxi_data',\n",
				"    transformation_ctx='dyf',\n",
				")\n",
				"\n",
				"df = dyf.toDF()"
			]
		},
		{
			"cell_type": "markdown",
			"id": "6006f65b-73e9-4b62-8b6d-b1d9c1c99ef1",
			"metadata": {
				"tags": []
			},
			"source": [
				"## Cleaning"
			]
		},
		{
			"cell_type": "code",
			"execution_count": 3,
			"id": "8d02ccd6-f0a6-4694-9385-463a9a93f252",
			"metadata": {
				"trusted": true,
				"vscode": {
					"languageId": "python_glue_session"
				}
			},
			"outputs": [
				{
					"name": "stdout",
					"output_type": "stream",
					"text": [
						"\n"
					]
				}
			],
			"source": [
				"from pyspark.sql.functions import when, col"
			]
		},
		{
			"cell_type": "markdown",
			"id": "9562dbc1-bded-444a-bf09-e08e77b2662a",
			"metadata": {},
			"source": [
				"**Remove rows with null in important columns**"
			]
		},
		{
			"cell_type": "code",
			"execution_count": 4,
			"id": "4a7cb858-9142-4cd0-a7f9-189b9518ddb0",
			"metadata": {
				"trusted": true,
				"vscode": {
					"languageId": "python_glue_session"
				}
			},
			"outputs": [
				{
					"name": "stdout",
					"output_type": "stream",
					"text": [
						"\n"
					]
				}
			],
			"source": [
				"df = df.na.drop(subset=['total_amount', 'tpep_pickup_datetime', 'tpep_dropoff_datetime', 'PULocationID', 'DOLocationID'])"
			]
		},
		{
			"cell_type": "markdown",
			"id": "d68c84a2-d0a8-4736-b91d-96241bfaec7e",
			"metadata": {},
			"source": [
				"**Standardize columns name**"
			]
		},
		{
			"cell_type": "code",
			"execution_count": 5,
			"id": "3193b1bd-c6d0-460f-90cc-87328bd89fe5",
			"metadata": {
				"scrolled": true,
				"trusted": true,
				"vscode": {
					"languageId": "python_glue_session"
				}
			},
			"outputs": [
				{
					"name": "stdout",
					"output_type": "stream",
					"text": [
						"\n"
					]
				}
			],
			"source": [
				"columns_to_be_renamed = [\n",
				"    ['VendorID', 'vendor_id'],\n",
				"    ['tpep_pickup_datetime', 'pickup_datetime'],\n",
				"    ['tpep_dropoff_datetime', 'dropoff_datetime'],\n",
				"    ['RatecodeID', 'rate_code_id'],\n",
				"    ['store_and_fwd_flag', 'store_and_forward'],\n",
				"    ['PULocationID', 'pickup_location_id'],\n",
				"    ['DOLocationID', 'dropoff_location_id'],\n",
				"    ['extra', 'extra_amount'],\n",
				"    ['Airport_fee', 'airport_fee_amount'],\n",
				"    ['payment_type', 'payment_type_id']\n",
				"]\n",
				"\n",
				"for [old_name, new_name] in columns_to_be_renamed:\n",
				"    df = df.withColumnRenamed(old_name, new_name)"
			]
		},
		{
			"cell_type": "markdown",
			"id": "d54e1690-2bfd-4581-b53a-d9a6686bf22e",
			"metadata": {},
			"source": [
				"**Make sure values are within range**"
			]
		},
		{
			"cell_type": "code",
			"execution_count": 6,
			"id": "e5285ffe-a2b7-4c02-a4e6-9a43c3185815",
			"metadata": {
				"trusted": true,
				"vscode": {
					"languageId": "python_glue_session"
				}
			},
			"outputs": [
				{
					"name": "stdout",
					"output_type": "stream",
					"text": [
						"\n"
					]
				}
			],
			"source": [
				"df = df.withColumn('vendor_id', when(col('vendor_id').isin([1, 2]), col('vendor_id')).otherwise(3))"
			]
		},
		{
			"cell_type": "code",
			"execution_count": 7,
			"id": "89529a23-d6e7-481e-9e4d-a933429a6378",
			"metadata": {
				"trusted": true,
				"vscode": {
					"languageId": "python_glue_session"
				}
			},
			"outputs": [
				{
					"name": "stdout",
					"output_type": "stream",
					"text": [
						"\n"
					]
				}
			],
			"source": [
				"df = df.withColumn('store_and_forward', when(col('store_and_forward') == 'Y', True).otherwise(False))"
			]
		},
		{
			"cell_type": "markdown",
			"id": "bd1d0699-3cf3-44be-9f2c-a7a373a6ca18",
			"metadata": {},
			"source": [
				"## Aggregation"
			]
		},
		{
			"cell_type": "code",
			"execution_count": 8,
			"id": "0eb5b270-b29d-45fa-b6a7-6a6ff93cb23f",
			"metadata": {
				"trusted": true,
				"vscode": {
					"languageId": "python_glue_session"
				}
			},
			"outputs": [
				{
					"name": "stdout",
					"output_type": "stream",
					"text": [
						"\n"
					]
				}
			],
			"source": [
				"def get_kilometers_from_miles(miles):\n",
				"    try:\n",
				"        return miles * 1.60934\n",
				"    except:\n",
				"        return 0\n",
				"\n",
				"def get_payment_type(payment_type_id):\n",
				"    _map = {\n",
				"        1: 'Credit card',\n",
				"        2: 'Cash',\n",
				"        3: 'No charge',\n",
				"        4: 'Dispute',\n",
				"        6: 'Voided trip'\n",
				"    }\n",
				"\n",
				"    return _map[payment_type_id] if payment_type_id in _map else 'Unknown'\n",
				"\n",
				"def get_rate_code(rate_code_id):\n",
				"    _map = {\n",
				"        1: 'Standard',\n",
				"        2: 'Airport (JFK)',\n",
				"        3: 'Newark',\n",
				"        4: 'Nassau or Nassau or Westchester',\n",
				"        5: 'Negotiated',\n",
				"        6: 'Group ride'\n",
				"    }\n",
				"\n",
				"    return _map[rate_code_id] if rate_code_id in _map else 'Unknown'\n",
				"\n",
				"def get_vendor(vendor_id):\n",
				"    _map = {\n",
				"        1: 'Creative Mobile Technologies',\n",
				"        2: 'VeriFone'\n",
				"    }\n",
				"\n",
				"    return _map[vendor_id] if vendor_id in _map else 'Unknown'\n",
				"\n",
				"def aggregator(df):\n",
				"    row = df.asDict()\n",
				"    row['payment_type'] = get_payment_type(row['payment_type_id'])\n",
				"    row['rate_code'] = get_rate_code(row['rate_code_id'])\n",
				"    row['vendor'] = get_vendor(row['vendor_id'])\n",
				"    row['trip_distance'] = get_kilometers_from_miles(row['trip_distance'])\n",
				"\n",
				"    return row\n",
				"    \n",
				"\n",
				"rdd = df.rdd.map(aggregator)\n",
				"df = rdd.toDF()"
			]
		},
		{
			"cell_type": "markdown",
			"id": "f0c8c2bb-87f2-4c55-8be7-5817546ecf1d",
			"metadata": {
				"tags": []
			},
			"source": [
				"**Add location data**"
			]
		},
		{
			"cell_type": "code",
			"execution_count": 9,
			"id": "4ec25f32-98c9-4cb1-b08f-4f3b5d354dba",
			"metadata": {
				"tags": [],
				"trusted": true,
				"vscode": {
					"languageId": "python_glue_session"
				}
			},
			"outputs": [
				{
					"name": "stdout",
					"output_type": "stream",
					"text": [
						"\n"
					]
				}
			],
			"source": [
				"df.createOrReplaceTempView('taxi_trips')\n",
				"df_taxi_zones = spark.read.format('csv').option('header', 'true').load('s3://raw-taxi-data/taxi_zone_lookup.csv')\n",
				"df_taxi_zones.createOrReplaceTempView('taxi_zones')"
			]
		},
		{
			"cell_type": "code",
			"execution_count": 10,
			"id": "bbce76e6-06b4-46ec-8391-b7ef187c55b1",
			"metadata": {
				"tags": [],
				"trusted": true,
				"vscode": {
					"languageId": "python_glue_session"
				}
			},
			"outputs": [
				{
					"name": "stdout",
					"output_type": "stream",
					"text": [
						"\n"
					]
				}
			],
			"source": [
				"no_ids_columns = filter(lambda column: '_id' not in column, df.columns)\n",
				"\n",
				"df = spark.sql(f\"\"\"\n",
				"SELECT {','.join(no_ids_columns)}, partition_0, partition_1,\n",
				"taxi_zones_pickup.Zone as pickup_location_zone, \n",
				"taxi_zones_pickup.Borough as pickup_location_borough, \n",
				"taxi_zones_dropoff.Zone as dropoff_location_zone, \n",
				"taxi_zones_dropoff.Borough as dropoff_location_borough\n",
				"FROM taxi_trips\n",
				"JOIN taxi_zones AS taxi_zones_pickup on taxi_zones_pickup.LocationID = taxi_trips.pickup_location_id\n",
				"JOIN taxi_zones AS taxi_zones_dropoff on taxi_zones_dropoff.LocationID = taxi_trips.dropoff_location_id\n",
				"\"\"\")"
			]
		},
		{
			"cell_type": "code",
			"execution_count": 11,
			"id": "b5056121-459f-4dab-8f09-7e3b1b974f8f",
			"metadata": {
				"tags": [],
				"trusted": true,
				"vscode": {
					"languageId": "python_glue_session"
				}
			},
			"outputs": [
				{
					"name": "stdout",
					"output_type": "stream",
					"text": [
						"root\n",
						" |-- airport_fee_amount: double (nullable = true)\n",
						" |-- congestion_surcharge: double (nullable = true)\n",
						" |-- dropoff_datetime: timestamp (nullable = true)\n",
						" |-- extra_amount: double (nullable = true)\n",
						" |-- fare_amount: double (nullable = true)\n",
						" |-- improvement_surcharge: double (nullable = true)\n",
						" |-- mta_tax: double (nullable = true)\n",
						" |-- partition_0: string (nullable = true)\n",
						" |-- partition_1: string (nullable = true)\n",
						" |-- passenger_count: double (nullable = true)\n",
						" |-- payment_type: string (nullable = true)\n",
						" |-- pickup_datetime: timestamp (nullable = true)\n",
						" |-- rate_code: string (nullable = true)\n",
						" |-- store_and_forward: boolean (nullable = true)\n",
						" |-- tip_amount: double (nullable = true)\n",
						" |-- tolls_amount: double (nullable = true)\n",
						" |-- total_amount: double (nullable = true)\n",
						" |-- trip_distance: double (nullable = true)\n",
						" |-- vendor: string (nullable = true)\n",
						" |-- partition_0: string (nullable = true)\n",
						" |-- partition_1: string (nullable = true)\n",
						" |-- pickup_location_zone: string (nullable = true)\n",
						" |-- pickup_location_borough: string (nullable = true)\n",
						" |-- dropoff_location_zone: string (nullable = true)\n",
						" |-- dropoff_location_borough: string (nullable = true)\n"
					]
				}
			],
			"source": [
				"df.printSchema()"
			]
		},
		{
			"cell_type": "markdown",
			"id": "2f96b677-a3b8-4484-97ca-5ecab11ad89f",
			"metadata": {},
			"source": [
				"#### Load into transformed_taxi_trips S3"
			]
		},
		{
			"cell_type": "code",
			"execution_count": 12,
			"id": "7263259c-c025-461c-9be6-620e007c9b94",
			"metadata": {
				"tags": [],
				"trusted": true,
				"vscode": {
					"languageId": "python_glue_session"
				}
			},
			"outputs": [
				{
					"name": "stdout",
					"output_type": "stream",
					"text": [
						"\n"
					]
				}
			],
			"source": [
				"from awsglue.dynamicframe import DynamicFrame\n",
				"\n",
				"dyf = DynamicFrame.fromDF(df, glueContext, \"dyf\")\n",
				"\n",
				"transformed_taxi_data_bucket = glueContext.write_dynamic_frame.from_options(\n",
				"    frame=dyf,\n",
				"    connection_type='s3',\n",
				"    format='csv',\n",
				"    connection_options={'path': 's3://transformed-taxi-data', 'partitionKeys': ['partition_0', 'partition_1']},\n",
				"    transformation_ctx='transformed_taxi_data_bucket',\n",
				")\n",
				"\n",
				"job.commit()"
			]
		},
		{
			"cell_type": "code",
			"execution_count": 13,
			"id": "db346117-d74f-4d02-bd66-7578c8926bcc",
			"metadata": {
				"tags": [],
				"trusted": true,
				"vscode": {
					"languageId": "python_glue_session"
				}
			},
			"outputs": [
				{
					"name": "stdout",
					"output_type": "stream",
					"text": [
						"{\"airport_fee_amount\": 1.25, \"congestion_surcharge\": 0.0, \"dropoff_datetime\": 2023-03-25 18:54:48.0, \"extra_amount\": 0.0, \"fare_amount\": 63.9, \"improvement_surcharge\": 1.0, \"mta_tax\": 0.5, \"partition_0\": \"2023\", \"partition_1\": \"03\", \"passenger_count\": 1.0, \"payment_type\": \"Credit card\", \"pickup_datetime\": 2023-03-25 18:13:11.0, \"rate_code\": \"Standard\", \"store_and_forward\": false, \"tip_amount\": 3.0, \"tolls_amount\": 0.0, \"total_amount\": 69.65, \"trip_distance\": 25.9747476, \"vendor\": \"VeriFone\", \"pickup_location_zone\": \"JFK Airport\", \"pickup_location_borough\": \"Queens\", \"dropoff_location_zone\": \"Long Island City/Hunters Point\", \"dropoff_location_borough\": \"Queens\"}\n",
						"{\"airport_fee_amount\": 0.0, \"congestion_surcharge\": 2.5, \"dropoff_datetime\": 2023-03-11 11:51:28.0, \"extra_amount\": 0.0, \"fare_amount\": 12.8, \"improvement_surcharge\": 1.0, \"mta_tax\": 0.5, \"partition_0\": \"2023\", \"partition_1\": \"03\", \"passenger_count\": 1.0, \"payment_type\": \"Credit card\", \"pickup_datetime\": 2023-03-11 11:40:55.0, \"rate_code\": \"Standard\", \"store_and_forward\": false, \"tip_amount\": 3.36, \"tolls_amount\": 0.0, \"total_amount\": 20.16, \"trip_distance\": 3.4600809999999997, \"vendor\": \"VeriFone\", \"pickup_location_zone\": \"Sutton Place/Turtle Bay North\", \"pickup_location_borough\": \"Manhattan\", \"dropoff_location_zone\": \"East Village\", \"dropoff_location_borough\": \"Manhattan\"}\n",
						"{\"airport_fee_amount\": 0.0, \"congestion_surcharge\": 2.5, \"dropoff_datetime\": 2023-03-11 01:17:29.0, \"extra_amount\": 1.0, \"fare_amount\": 9.3, \"improvement_surcharge\": 1.0, \"mta_tax\": 0.5, \"partition_0\": \"2023\", \"partition_1\": \"03\", \"passenger_count\": 5.0, \"payment_type\": \"Credit card\", \"pickup_datetime\": 2023-03-11 01:10:30.0, \"rate_code\": \"Standard\", \"store_and_forward\": false, \"tip_amount\": 2.86, \"tolls_amount\": 0.0, \"total_amount\": 17.16, \"trip_distance\": 2.5427572, \"vendor\": \"VeriFone\", \"pickup_location_zone\": \"Clinton East\", \"pickup_location_borough\": \"Manhattan\", \"dropoff_location_zone\": \"Sutton Place/Turtle Bay North\", \"dropoff_location_borough\": \"Manhattan\"}\n",
						"{\"airport_fee_amount\": 0.0, \"congestion_surcharge\": 2.5, \"dropoff_datetime\": 2023-03-09 19:01:17.0, \"extra_amount\": 5.0, \"fare_amount\": 5.1, \"improvement_surcharge\": 1.0, \"mta_tax\": 0.5, \"partition_0\": \"2023\", \"partition_1\": \"03\", \"passenger_count\": 1.0, \"payment_type\": \"Credit card\", \"pickup_datetime\": 2023-03-09 18:58:27.0, \"rate_code\": \"Standard\", \"store_and_forward\": false, \"tip_amount\": 2.0, \"tolls_amount\": 0.0, \"total_amount\": 13.6, \"trip_distance\": 1.1265379999999998, \"vendor\": \"Creative Mobile Technologies\", \"pickup_location_zone\": \"Upper West Side North\", \"pickup_location_borough\": \"Manhattan\", \"dropoff_location_zone\": \"Manhattan Valley\", \"dropoff_location_borough\": \"Manhattan\"}\n",
						"{\"airport_fee_amount\": 0.0, \"congestion_surcharge\": 2.5, \"dropoff_datetime\": 2023-03-16 02:34:21.0, \"extra_amount\": 1.0, \"fare_amount\": 33.1, \"improvement_surcharge\": 1.0, \"mta_tax\": 0.5, \"partition_0\": \"2023\", \"partition_1\": \"03\", \"passenger_count\": 1.0, \"payment_type\": \"Credit card\", \"pickup_datetime\": 2023-03-16 02:10:16.0, \"rate_code\": \"Standard\", \"store_and_forward\": false, \"tip_amount\": 7.62, \"tolls_amount\": 0.0, \"total_amount\": 45.72, \"trip_distance\": 11.941302799999999, \"vendor\": \"VeriFone\", \"pickup_location_zone\": \"SoHo\", \"pickup_location_borough\": \"Manhattan\", \"dropoff_location_zone\": \"Central Harlem\", \"dropoff_location_borough\": \"Manhattan\"}\n",
						"{\"airport_fee_amount\": 0.0, \"congestion_surcharge\": 2.5, \"dropoff_datetime\": 2023-03-13 14:58:41.0, \"extra_amount\": 0.0, \"fare_amount\": 17.0, \"improvement_surcharge\": 1.0, \"mta_tax\": 0.5, \"partition_0\": \"2023\", \"partition_1\": \"03\", \"passenger_count\": 2.0, \"payment_type\": \"Credit card\", \"pickup_datetime\": 2023-03-13 14:40:53.0, \"rate_code\": \"Standard\", \"store_and_forward\": false, \"tip_amount\": 1.0, \"tolls_amount\": 0.0, \"total_amount\": 22.0, \"trip_distance\": 3.1703997999999998, \"vendor\": \"VeriFone\", \"pickup_location_zone\": \"Midtown South\", \"pickup_location_borough\": \"Manhattan\", \"dropoff_location_zone\": \"Central Park\", \"dropoff_location_borough\": \"Manhattan\"}\n",
						"{\"airport_fee_amount\": 0.0, \"congestion_surcharge\": 2.5, \"dropoff_datetime\": 2023-03-24 09:48:44.0, \"extra_amount\": 0.0, \"fare_amount\": 6.5, \"improvement_surcharge\": 1.0, \"mta_tax\": 0.5, \"partition_0\": \"2023\", \"partition_1\": \"03\", \"passenger_count\": 1.0, \"payment_type\": \"Credit card\", \"pickup_datetime\": 2023-03-24 09:44:19.0, \"rate_code\": \"Standard\", \"store_and_forward\": false, \"tip_amount\": 2.1, \"tolls_amount\": 0.0, \"total_amount\": 12.6, \"trip_distance\": 1.2713786, \"vendor\": \"VeriFone\", \"pickup_location_zone\": \"Union Sq\", \"pickup_location_borough\": \"Manhattan\", \"dropoff_location_zone\": \"Union Sq\", \"dropoff_location_borough\": \"Manhattan\"}\n",
						"{\"airport_fee_amount\": 0.0, \"congestion_surcharge\": 2.5, \"dropoff_datetime\": 2023-03-23 07:24:41.0, \"extra_amount\": 0.0, \"fare_amount\": 22.6, \"improvement_surcharge\": 1.0, \"mta_tax\": 0.5, \"partition_0\": \"2023\", \"partition_1\": \"03\", \"passenger_count\": 1.0, \"payment_type\": \"Cash\", \"pickup_datetime\": 2023-03-23 07:04:17.0, \"rate_code\": \"Standard\", \"store_and_forward\": false, \"tip_amount\": 0.0, \"tolls_amount\": 0.0, \"total_amount\": 26.6, \"trip_distance\": 6.7431346, \"vendor\": \"VeriFone\", \"pickup_location_zone\": \"Upper West Side North\", \"pickup_location_borough\": \"Manhattan\", \"dropoff_location_zone\": \"East Chelsea\", \"dropoff_location_borough\": \"Manhattan\"}\n",
						"{\"airport_fee_amount\": 0.0, \"congestion_surcharge\": 2.5, \"dropoff_datetime\": 2023-03-29 12:13:10.0, \"extra_amount\": 2.5, \"fare_amount\": 44.3, \"improvement_surcharge\": 1.0, \"mta_tax\": 0.5, \"partition_0\": \"2023\", \"partition_1\": \"03\", \"passenger_count\": 2.0, \"payment_type\": \"Credit card\", \"pickup_datetime\": 2023-03-29 11:37:34.0, \"rate_code\": \"Standard\", \"store_and_forward\": false, \"tip_amount\": 9.65, \"tolls_amount\": 0.0, \"total_amount\": 57.95, \"trip_distance\": 13.518456, \"vendor\": \"Creative Mobile Technologies\", \"pickup_location_zone\": \"Greenwich Village North\", \"pickup_location_borough\": \"Manhattan\", \"dropoff_location_zone\": \"Manhattanville\", \"dropoff_location_borough\": \"Manhattan\"}\n",
						"{\"airport_fee_amount\": 0.0, \"congestion_surcharge\": 2.5, \"dropoff_datetime\": 2023-03-09 13:49:02.0, \"extra_amount\": 0.0, \"fare_amount\": 14.9, \"improvement_surcharge\": 1.0, \"mta_tax\": 0.5, \"partition_0\": \"2023\", \"partition_1\": \"03\", \"passenger_count\": 1.0, \"payment_type\": \"Credit card\", \"pickup_datetime\": 2023-03-09 13:33:09.0, \"rate_code\": \"Standard\", \"store_and_forward\": false, \"tip_amount\": 3.78, \"tolls_amount\": 0.0, \"total_amount\": 22.68, \"trip_distance\": 2.6715044, \"vendor\": \"VeriFone\", \"pickup_location_zone\": \"Midtown North\", \"pickup_location_borough\": \"Manhattan\", \"dropoff_location_zone\": \"Upper East Side North\", \"dropoff_location_borough\": \"Manhattan\"}\n",
						"{\"airport_fee_amount\": 1.25, \"congestion_surcharge\": 2.5, \"dropoff_datetime\": 2023-03-23 15:32:45.0, \"extra_amount\": 0.0, \"fare_amount\": 70.0, \"improvement_surcharge\": 1.0, \"mta_tax\": 0.5, \"partition_0\": \"2023\", \"partition_1\": \"03\", \"passenger_count\": 1.0, \"payment_type\": \"Credit card\", \"pickup_datetime\": 2023-03-23 14:37:05.0, \"rate_code\": \"Airport (JFK)\", \"store_and_forward\": false, \"tip_amount\": 16.36, \"tolls_amount\": 6.55, \"total_amount\": 98.16, \"trip_distance\": 28.0347028, \"vendor\": \"VeriFone\", \"pickup_location_zone\": \"JFK Airport\", \"pickup_location_borough\": \"Queens\", \"dropoff_location_zone\": \"Sutton Place/Turtle Bay North\", \"dropoff_location_borough\": \"Manhattan\"}\n",
						"{\"airport_fee_amount\": 0.0, \"congestion_surcharge\": 2.5, \"dropoff_datetime\": 2023-03-25 13:30:18.0, \"extra_amount\": 0.0, \"fare_amount\": 20.5, \"improvement_surcharge\": 1.0, \"mta_tax\": 0.5, \"partition_0\": \"2023\", \"partition_1\": \"03\", \"passenger_count\": 1.0, \"payment_type\": \"Credit card\", \"pickup_datetime\": 2023-03-25 13:10:29.0, \"rate_code\": \"Standard\", \"store_and_forward\": false, \"tip_amount\": 4.9, \"tolls_amount\": 0.0, \"total_amount\": 29.4, \"trip_distance\": 5.2786352, \"vendor\": \"VeriFone\", \"pickup_location_zone\": \"Upper West Side South\", \"pickup_location_borough\": \"Manhattan\", \"dropoff_location_zone\": \"Murray Hill\", \"dropoff_location_borough\": \"Manhattan\"}\n",
						"{\"airport_fee_amount\": 0.0, \"congestion_surcharge\": 2.5, \"dropoff_datetime\": 2023-03-04 15:21:32.0, \"extra_amount\": 2.5, \"fare_amount\": 22.6, \"improvement_surcharge\": 1.0, \"mta_tax\": 0.5, \"partition_0\": \"2023\", \"partition_1\": \"03\", \"passenger_count\": 2.0, \"payment_type\": \"Credit card\", \"pickup_datetime\": 2023-03-04 14:58:34.0, \"rate_code\": \"Standard\", \"store_and_forward\": false, \"tip_amount\": 5.3, \"tolls_amount\": 0.0, \"total_amount\": 31.9, \"trip_distance\": 5.63269, \"vendor\": \"Creative Mobile Technologies\", \"pickup_location_zone\": \"TriBeCa/Civic Center\", \"pickup_location_borough\": \"Manhattan\", \"dropoff_location_zone\": \"Times Sq/Theatre District\", \"dropoff_location_borough\": \"Manhattan\"}\n",
						"{\"airport_fee_amount\": 0.0, \"congestion_surcharge\": 2.5, \"dropoff_datetime\": 2023-03-21 22:49:55.0, \"extra_amount\": 3.5, \"fare_amount\": 6.5, \"improvement_surcharge\": 1.0, \"mta_tax\": 0.5, \"partition_0\": \"2023\", \"partition_1\": \"03\", \"passenger_count\": 1.0, \"payment_type\": \"Cash\", \"pickup_datetime\": 2023-03-21 22:45:00.0, \"rate_code\": \"Standard\", \"store_and_forward\": false, \"tip_amount\": 0.0, \"tolls_amount\": 0.0, \"total_amount\": 11.5, \"trip_distance\": 1.2874720000000002, \"vendor\": \"Creative Mobile Technologies\", \"pickup_location_zone\": \"Midtown Center\", \"pickup_location_borough\": \"Manhattan\", \"dropoff_location_zone\": \"Midtown Center\", \"dropoff_location_borough\": \"Manhattan\"}\n",
						"{\"airport_fee_amount\": 0.0, \"congestion_surcharge\": 2.5, \"dropoff_datetime\": 2023-03-02 14:58:00.0, \"extra_amount\": 0.0, \"fare_amount\": 10.0, \"improvement_surcharge\": 1.0, \"mta_tax\": 0.5, \"partition_0\": \"2023\", \"partition_1\": \"03\", \"passenger_count\": 6.0, \"payment_type\": \"Credit card\", \"pickup_datetime\": 2023-03-02 14:50:02.0, \"rate_code\": \"Standard\", \"store_and_forward\": false, \"tip_amount\": 2.8, \"tolls_amount\": 0.0, \"total_amount\": 16.8, \"trip_distance\": 2.1243288000000002, \"vendor\": \"VeriFone\", \"pickup_location_zone\": \"Midtown South\", \"pickup_location_borough\": \"Manhattan\", \"dropoff_location_zone\": \"Midtown East\", \"dropoff_location_borough\": \"Manhattan\"}\n",
						"{\"airport_fee_amount\": 0.0, \"congestion_surcharge\": 2.5, \"dropoff_datetime\": 2023-03-29 20:18:17.0, \"extra_amount\": 1.0, \"fare_amount\": 17.0, \"improvement_surcharge\": 1.0, \"mta_tax\": 0.5, \"partition_0\": \"2023\", \"partition_1\": \"03\", \"passenger_count\": 2.0, \"payment_type\": \"Credit card\", \"pickup_datetime\": 2023-03-29 20:03:48.0, \"rate_code\": \"Standard\", \"store_and_forward\": false, \"tip_amount\": 2.5, \"tolls_amount\": 0.0, \"total_amount\": 24.5, \"trip_distance\": 4.747553, \"vendor\": \"VeriFone\", \"pickup_location_zone\": \"Lenox Hill West\", \"pickup_location_borough\": \"Manhattan\", \"dropoff_location_zone\": \"Manhattan Valley\", \"dropoff_location_borough\": \"Manhattan\"}\n",
						"{\"airport_fee_amount\": 0.0, \"congestion_surcharge\": 2.5, \"dropoff_datetime\": 2023-03-07 23:56:53.0, \"extra_amount\": 1.0, \"fare_amount\": 40.1, \"improvement_surcharge\": 1.0, \"mta_tax\": 0.5, \"partition_0\": \"2023\", \"partition_1\": \"03\", \"passenger_count\": 1.0, \"payment_type\": \"Credit card\", \"pickup_datetime\": 2023-03-07 23:37:45.0, \"rate_code\": \"Standard\", \"store_and_forward\": false, \"tip_amount\": 4.0, \"tolls_amount\": 0.0, \"total_amount\": 49.1, \"trip_distance\": 16.173867, \"vendor\": \"VeriFone\", \"pickup_location_zone\": \"Sutton Place/Turtle Bay North\", \"pickup_location_borough\": \"Manhattan\", \"dropoff_location_zone\": \"Inwood Hill Park\", \"dropoff_location_borough\": \"Manhattan\"}\n",
						"{\"airport_fee_amount\": 0.0, \"congestion_surcharge\": 2.5, \"dropoff_datetime\": 2023-03-31 21:45:13.0, \"extra_amount\": 1.0, \"fare_amount\": 10.7, \"improvement_surcharge\": 1.0, \"mta_tax\": 0.5, \"partition_0\": \"2023\", \"partition_1\": \"03\", \"passenger_count\": 2.0, \"payment_type\": \"Credit card\", \"pickup_datetime\": 2023-03-31 21:37:31.0, \"rate_code\": \"Standard\", \"store_and_forward\": false, \"tip_amount\": 3.14, \"tolls_amount\": 0.0, \"total_amount\": 18.84, \"trip_distance\": 2.9289988, \"vendor\": \"VeriFone\", \"pickup_location_zone\": \"Upper East Side North\", \"pickup_location_borough\": \"Manhattan\", \"dropoff_location_zone\": \"Lincoln Square West\", \"dropoff_location_borough\": \"Manhattan\"}\n",
						"{\"airport_fee_amount\": 0.0, \"congestion_surcharge\": 2.5, \"dropoff_datetime\": 2023-03-24 22:26:10.0, \"extra_amount\": 1.0, \"fare_amount\": 14.9, \"improvement_surcharge\": 1.0, \"mta_tax\": 0.5, \"partition_0\": \"2023\", \"partition_1\": \"03\", \"passenger_count\": 1.0, \"payment_type\": \"Credit card\", \"pickup_datetime\": 2023-03-24 22:13:52.0, \"rate_code\": \"Standard\", \"store_and_forward\": false, \"tip_amount\": 3.98, \"tolls_amount\": 0.0, \"total_amount\": 23.88, \"trip_distance\": 4.2647509999999995, \"vendor\": \"VeriFone\", \"pickup_location_zone\": \"West Chelsea/Hudson Yards\", \"pickup_location_borough\": \"Manhattan\", \"dropoff_location_zone\": \"Upper West Side South\", \"dropoff_location_borough\": \"Manhattan\"}\n",
						"{\"airport_fee_amount\": 1.25, \"congestion_surcharge\": 2.5, \"dropoff_datetime\": 2023-03-01 11:32:39.0, \"extra_amount\": 8.75, \"fare_amount\": 38.7, \"improvement_surcharge\": 1.0, \"mta_tax\": 0.5, \"partition_0\": \"2023\", \"partition_1\": \"03\", \"passenger_count\": 1.0, \"payment_type\": \"Credit card\", \"pickup_datetime\": 2023-03-01 11:00:19.0, \"rate_code\": \"Standard\", \"store_and_forward\": false, \"tip_amount\": 3.0, \"tolls_amount\": 0.0, \"total_amount\": 51.95, \"trip_distance\": 14.001257999999998, \"vendor\": \"Creative Mobile Technologies\", \"pickup_location_zone\": \"LaGuardia Airport\", \"pickup_location_borough\": \"Queens\", \"dropoff_location_zone\": \"Lenox Hill West\", \"dropoff_location_borough\": \"Manhattan\"}\n"
					]
				}
			],
			"source": [
				"dyf.show()"
			]
		}
	],
	"metadata": {
		"kernelspec": {
			"display_name": "Glue PySpark",
			"language": "python",
			"name": "glue_pyspark"
		},
		"language_info": {
			"codemirror_mode": {
				"name": "python",
				"version": 3
			},
			"file_extension": ".py",
			"mimetype": "text/x-python",
			"name": "Python_Glue_Session",
			"pygments_lexer": "python3"
		}
	},
	"nbformat": 4,
	"nbformat_minor": 5
}
