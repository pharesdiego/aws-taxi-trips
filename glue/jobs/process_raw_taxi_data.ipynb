{
 "cells": [
  {
   "cell_type": "code",
   "execution_count": 1,
   "id": "7b16b10c-4e24-4ef6-9574-f865c25b10a3",
   "metadata": {},
   "outputs": [
    {
     "data": {
      "application/vnd.jupyter.widget-view+json": {
       "model_id": "92940d904e8c4c2080f516303d4a1cc9",
       "version_major": 2,
       "version_minor": 0
      },
      "text/plain": [
       "FloatProgress(value=0.0, bar_style='info', description='Progress:', layout=Layout(height='25px', width='50%'),…"
      ]
     },
     "metadata": {},
     "output_type": "display_data"
    }
   ],
   "source": [
    "import sys\n",
    "from awsglue.transforms import *\n",
    "from pyspark.context import SparkContext\n",
    "from awsglue.utils import getResolvedOptions\n",
    "from awsglue.context import GlueContext\n",
    "from awsglue.job import Job\n",
    "\n",
    "sc = SparkContext.getOrCreate()\n",
    "glueContext = GlueContext(sc)\n",
    "spark = glueContext.spark_session\n",
    "job = Job(glueContext)\n",
    "is_prod = False\n",
    "\n",
    "try:\n",
    "    # Prod\n",
    "    args = getResolvedOptions(sys.argv, ['JOB_NAME', 'file_key', 'source_bucket', 'target_bucket'])\n",
    "    file_key = args['file_key']\n",
    "    source_bucket = args['source_bucket']\n",
    "    target_bucket = args['target_bucket']\n",
    "    is_prod = True\n",
    "    job.init(args['JOB_NAME'] + file_key, args)\n",
    "except:\n",
    "    # Dev\n",
    "    file_key = 'year=2023/month=01/data.parquet'\n",
    "    source_bucket = 'raw-taxi-data'\n",
    "    target_bucket = 'transformed-taxi-data'"
   ]
  },
  {
   "cell_type": "code",
   "execution_count": 2,
   "id": "99e6b3b7-af11-4e90-9196-787d1d34c248",
   "metadata": {},
   "outputs": [
    {
     "data": {
      "application/vnd.jupyter.widget-view+json": {
       "model_id": "da3d3f6da14148378922a1131606e53d",
       "version_major": 2,
       "version_minor": 0
      },
      "text/plain": [
       "FloatProgress(value=0.0, bar_style='info', description='Progress:', layout=Layout(height='25px', width='50%'),…"
      ]
     },
     "metadata": {},
     "output_type": "display_data"
    }
   ],
   "source": [
    "df = spark.read.parquet(f's3://{source_bucket}/{file_key}')"
   ]
  },
  {
   "cell_type": "markdown",
   "id": "14f73ed5",
   "metadata": {},
   "source": [
    "**Handle sceneario where datetimes are defined as `Long` containing nanoseconds since epoch**"
   ]
  },
  {
   "cell_type": "code",
   "execution_count": 3,
   "id": "2821159e-26fd-4e4c-a95c-8f49681688d4",
   "metadata": {
    "tags": []
   },
   "outputs": [
    {
     "data": {
      "application/vnd.jupyter.widget-view+json": {
       "model_id": "9d0320b381144df6ab92b2013483c4e6",
       "version_major": 2,
       "version_minor": 0
      },
      "text/plain": [
       "FloatProgress(value=0.0, bar_style='info', description='Progress:', layout=Layout(height='25px', width='50%'),…"
      ]
     },
     "metadata": {},
     "output_type": "display_data"
    }
   ],
   "source": [
    "from pyspark.sql.functions import col, from_unixtime\n",
    "from pyspark.sql.types import LongType\n",
    "\n",
    "if isinstance(df.schema['tpep_pickup_datetime'].dataType, LongType):\n",
    "    df = df \\\n",
    "    .withColumn('tpep_pickup_datetime', from_unixtime(col('tpep_pickup_datetime') / 1_000_000_000).cast('timestamp')) \\\n",
    "    .withColumn('tpep_dropoff_datetime', from_unixtime(col('tpep_dropoff_datetime') / 1_000_000_000).cast('timestamp'))"
   ]
  },
  {
   "cell_type": "markdown",
   "id": "e451c0ec-8fde-45f7-b180-b0a95e59e282",
   "metadata": {},
   "source": [
    "#### Cleaning"
   ]
  },
  {
   "cell_type": "code",
   "execution_count": 4,
   "id": "c80b8617-84c6-4919-aa61-0de85cf71c3e",
   "metadata": {},
   "outputs": [
    {
     "data": {
      "application/vnd.jupyter.widget-view+json": {
       "model_id": "61548aa8c8f74e26b15b442c594d2c16",
       "version_major": 2,
       "version_minor": 0
      },
      "text/plain": [
       "FloatProgress(value=0.0, bar_style='info', description='Progress:', layout=Layout(height='25px', width='50%'),…"
      ]
     },
     "metadata": {},
     "output_type": "display_data"
    }
   ],
   "source": [
    "from pyspark.sql.functions import when, col, udf, monotonically_increasing_id"
   ]
  },
  {
   "cell_type": "markdown",
   "id": "22e10e8c-9c69-429d-a469-3630e3f677ca",
   "metadata": {},
   "source": [
    "**Remove rows with null in important columns**"
   ]
  },
  {
   "cell_type": "code",
   "execution_count": 5,
   "id": "9e6c8fb8-59e9-4131-9cb5-679ea4cec113",
   "metadata": {},
   "outputs": [
    {
     "data": {
      "application/vnd.jupyter.widget-view+json": {
       "model_id": "84ec4e7c0a67456aa392223b8520470e",
       "version_major": 2,
       "version_minor": 0
      },
      "text/plain": [
       "FloatProgress(value=0.0, bar_style='info', description='Progress:', layout=Layout(height='25px', width='50%'),…"
      ]
     },
     "metadata": {},
     "output_type": "display_data"
    }
   ],
   "source": [
    "df = df.na.drop(subset=['total_amount', 'tpep_pickup_datetime', 'tpep_dropoff_datetime', 'PULocationID', 'DOLocationID', 'trip_distance'])"
   ]
  },
  {
   "cell_type": "markdown",
   "id": "3dd654b5-0b06-4a6d-a949-715b25537a01",
   "metadata": {},
   "source": [
    "**Filter out-of-range values**"
   ]
  },
  {
   "cell_type": "code",
   "execution_count": 6,
   "id": "e47d9163-7286-4152-9b8d-2b74c1ceb52f",
   "metadata": {},
   "outputs": [
    {
     "data": {
      "application/vnd.jupyter.widget-view+json": {
       "model_id": "d580ec7f91a14cde9b4addbb1cdcb6ec",
       "version_major": 2,
       "version_minor": 0
      },
      "text/plain": [
       "FloatProgress(value=0.0, bar_style='info', description='Progress:', layout=Layout(height='25px', width='50%'),…"
      ]
     },
     "metadata": {},
     "output_type": "display_data"
    }
   ],
   "source": [
    "# [column, min_value, max_value]\n",
    "cols_ranges = [\n",
    "    ['passenger_count', '0', '6'],\n",
    "    ['fare_amount', '0.1', None],\n",
    "    ['extra', '0', None],\n",
    "    ['mta_tax', '0', None],\n",
    "    ['tip_amount', '0', None],\n",
    "    ['tolls_amount', '0', None],\n",
    "    ['improvement_surcharge', '0', None],\n",
    "    ['total_amount', '3', None],\n",
    "    ['congestion_surcharge', '0', None],\n",
    "    ['trip_distance', '0', '100'],\n",
    "    ['tpep_pickup_datetime', '\"2023-01-01\"', None],\n",
    "    ['tpep_dropoff_datetime', None, '\"2023-12-31\"']\n",
    "]\n",
    "\n",
    "filter_str = 'airport_fee = 1.25 OR airport_fee = 0 AND tpep_pickup_datetime < tpep_dropoff_datetime AND '\n",
    "\n",
    "for [col_name, min_value, max_value] in cols_ranges:\n",
    "    filter_str += f'{col_name} >= {min_value} AND ' if min_value != None else ''\n",
    "    filter_str += f'{col_name} <= {max_value} AND ' if max_value != None else ''\n",
    "    \n",
    "df = df.filter(filter_str[:-5])"
   ]
  },
  {
   "cell_type": "markdown",
   "id": "c493dcb7-8d44-4bb9-8512-5eb85737974d",
   "metadata": {},
   "source": [
    "**Standardize columns name**"
   ]
  },
  {
   "cell_type": "code",
   "execution_count": 7,
   "id": "6e5e746a-af65-4873-b4de-7172cfb256b3",
   "metadata": {},
   "outputs": [
    {
     "data": {
      "application/vnd.jupyter.widget-view+json": {
       "model_id": "86cdaac59651421c81d7ed7f119f65a0",
       "version_major": 2,
       "version_minor": 0
      },
      "text/plain": [
       "FloatProgress(value=0.0, bar_style='info', description='Progress:', layout=Layout(height='25px', width='50%'),…"
      ]
     },
     "metadata": {},
     "output_type": "display_data"
    }
   ],
   "source": [
    "columns_to_be_renamed = [\n",
    "    ['VendorID', 'vendor_id'],\n",
    "    ['tpep_pickup_datetime', 'pickup_datetime'],\n",
    "    ['tpep_dropoff_datetime', 'dropoff_datetime'],\n",
    "    ['RatecodeID', 'rate_code_id'],\n",
    "    ['store_and_fwd_flag', 'store_and_forward'],\n",
    "    ['PULocationID', 'pickup_location_id'],\n",
    "    ['DOLocationID', 'dropoff_location_id'],\n",
    "    ['extra', 'extra_amount'],\n",
    "    ['Airport_fee', 'airport_fee_amount'],\n",
    "    ['payment_type', 'payment_type_id']\n",
    "]\n",
    "\n",
    "for [old_name, new_name] in columns_to_be_renamed:\n",
    "    df = df.withColumnRenamed(old_name, new_name)"
   ]
  },
  {
   "cell_type": "markdown",
   "id": "fbfdbc62-7746-42d3-90ac-5b03305675ca",
   "metadata": {},
   "source": [
    "**Outlier handling and tranformation**"
   ]
  },
  {
   "cell_type": "code",
   "execution_count": 8,
   "id": "334da4fe-ae51-47ca-9095-136d66f895a1",
   "metadata": {},
   "outputs": [
    {
     "data": {
      "application/vnd.jupyter.widget-view+json": {
       "model_id": "3eb480fb91984a808d4caf704feaa9f4",
       "version_major": 2,
       "version_minor": 0
      },
      "text/plain": [
       "FloatProgress(value=0.0, bar_style='info', description='Progress:', layout=Layout(height='25px', width='50%'),…"
      ]
     },
     "metadata": {},
     "output_type": "display_data"
    }
   ],
   "source": [
    "from pyspark.sql.types import FloatType, IntegerType\n",
    "\n",
    "def get_kilometers_from_miles(miles):\n",
    "    return float(\"{:.3f}\".format(miles * 1.60934))\n",
    "\n",
    "udf_get_kilometers_from_miles = udf(get_kilometers_from_miles, FloatType())\n",
    "\n",
    "df = df.withColumn('vendor_id', when(col('vendor_id').isin([1, 2]), col('vendor_id')).otherwise(None)) \\\n",
    "    .withColumn('store_and_forward', when(col('store_and_forward') == 'Y', True).otherwise(False)) \\\n",
    "    .withColumn('rate_code_id', when(col('rate_code_id').isin(list(range(1,7))), col('rate_code_id')).otherwise(None))  \\\n",
    "    .withColumn('payment_type_id', when(col('payment_type_id').isin(list(range(1,7))), col('payment_type_id')).otherwise(None)) \\\n",
    "    .withColumn('trip_distance', udf_get_kilometers_from_miles(col('trip_distance')))"
   ]
  },
  {
   "cell_type": "markdown",
   "id": "6816fec5-4c77-487f-9dac-437245e76d54",
   "metadata": {},
   "source": [
    "**Generate trip_id**"
   ]
  },
  {
   "cell_type": "code",
   "execution_count": 9,
   "id": "e9b0ab88-c93e-4e74-9792-7efc92e6936f",
   "metadata": {},
   "outputs": [
    {
     "data": {
      "application/vnd.jupyter.widget-view+json": {
       "model_id": "6c1a8813ea9949f3baabf380e304e749",
       "version_major": 2,
       "version_minor": 0
      },
      "text/plain": [
       "FloatProgress(value=0.0, bar_style='info', description='Progress:', layout=Layout(height='25px', width='50%'),…"
      ]
     },
     "metadata": {},
     "output_type": "display_data"
    }
   ],
   "source": [
    "import uuid"
   ]
  },
  {
   "cell_type": "code",
   "execution_count": 10,
   "id": "448d3ef5-c516-45b9-9cc8-46924355e4e1",
   "metadata": {},
   "outputs": [
    {
     "data": {
      "application/vnd.jupyter.widget-view+json": {
       "model_id": "36e0aeae64b849518b7617b572fabdf8",
       "version_major": 2,
       "version_minor": 0
      },
      "text/plain": [
       "FloatProgress(value=0.0, bar_style='info', description='Progress:', layout=Layout(height='25px', width='50%'),…"
      ]
     },
     "metadata": {},
     "output_type": "display_data"
    }
   ],
   "source": [
    "generate_trip_id = udf(lambda *cols: str(uuid.uuid5(uuid.NAMESPACE_DNS, '-'.join(str(col) for col in cols))))\n",
    "\n",
    "df = df.withColumn('trip_id', monotonically_increasing_id())\n",
    "\n",
    "columns_for_id_generation = [df[column] for column in df.columns]\n",
    "\n",
    "df = df.withColumn('trip_id', generate_trip_id(*columns_for_id_generation))"
   ]
  },
  {
   "cell_type": "markdown",
   "id": "4657e769-2b7a-4922-9ca2-4374e20a8d80",
   "metadata": {},
   "source": [
    "**Get dates and times id**"
   ]
  },
  {
   "cell_type": "code",
   "execution_count": 11,
   "id": "ad929dde-d30c-40fe-9371-08bab9a5ac39",
   "metadata": {},
   "outputs": [
    {
     "data": {
      "application/vnd.jupyter.widget-view+json": {
       "model_id": "db33f4749cee438f85b8be7f1495931b",
       "version_major": 2,
       "version_minor": 0
      },
      "text/plain": [
       "FloatProgress(value=0.0, bar_style='info', description='Progress:', layout=Layout(height='25px', width='50%'),…"
      ]
     },
     "metadata": {},
     "output_type": "display_data"
    }
   ],
   "source": [
    "def get_date_id_from_datetime(dt):\n",
    "    return dt.timetuple().tm_yday - 1\n",
    "    \n",
    "def get_time_id_from_datetime(dt):\n",
    "    tt = dt.timetuple()\n",
    "    return tt.tm_hour * 3600 + tt.tm_min * 60 + tt.tm_sec\n",
    "\n",
    "udf_get_date_id_from_datetime = udf(get_date_id_from_datetime)\n",
    "udf_get_time_id_from_datetime = udf(get_time_id_from_datetime)\n",
    "\n",
    "df = df \\\n",
    "    .withColumn('pickup_date_id', udf_get_date_id_from_datetime(col('pickup_datetime')).cast(IntegerType())) \\\n",
    "    .withColumn('dropoff_date_id', udf_get_date_id_from_datetime(col('dropoff_datetime')).cast(IntegerType())) \\\n",
    "    .withColumn('pickup_time_id', udf_get_time_id_from_datetime(col('pickup_datetime')).cast(IntegerType())) \\\n",
    "    .withColumn('dropoff_time_id', udf_get_time_id_from_datetime(col('dropoff_datetime')).cast(IntegerType())) \n",
    "\n",
    "df = df.select(*filter(lambda c: '_datetime' not in c, df.columns))"
   ]
  },
  {
   "cell_type": "markdown",
   "id": "268bc4b9-d52e-49b2-8841-3e04870f22db",
   "metadata": {},
   "source": [
    "**Cast types**"
   ]
  },
  {
   "cell_type": "code",
   "execution_count": 12,
   "id": "5e32bec7-8580-4dcf-aba2-224fa5d158e6",
   "metadata": {},
   "outputs": [
    {
     "data": {
      "application/vnd.jupyter.widget-view+json": {
       "model_id": "303c7ec94d8043979a9c4b55c7bdb4ee",
       "version_major": 2,
       "version_minor": 0
      },
      "text/plain": [
       "FloatProgress(value=0.0, bar_style='info', description='Progress:', layout=Layout(height='25px', width='50%'),…"
      ]
     },
     "metadata": {},
     "output_type": "display_data"
    }
   ],
   "source": [
    "from awsglue.dynamicframe import DynamicFrame\n",
    "\n",
    "if not is_prod:\n",
    "    df = df.limit(10000)\n",
    "\n",
    "dyf = DynamicFrame.fromDF(df, glueContext, \"dyf\")"
   ]
  },
  {
   "cell_type": "code",
   "execution_count": 13,
   "id": "275aef60-3a1d-422a-817f-bcd0cad9cec2",
   "metadata": {},
   "outputs": [
    {
     "data": {
      "application/vnd.jupyter.widget-view+json": {
       "model_id": "882fe6c4f084419f8f809268ab7fb0bc",
       "version_major": 2,
       "version_minor": 0
      },
      "text/plain": [
       "FloatProgress(value=0.0, bar_style='info', description='Progress:', layout=Layout(height='25px', width='50%'),…"
      ]
     },
     "metadata": {},
     "output_type": "display_data"
    },
    {
     "name": "stdout",
     "output_type": "stream",
     "text": [
      "root\n",
      "|-- vendor_id: long\n",
      "|-- passenger_count: double\n",
      "|-- trip_distance: float\n",
      "|-- rate_code_id: double\n",
      "|-- store_and_forward: boolean\n",
      "|-- pickup_location_id: long\n",
      "|-- dropoff_location_id: long\n",
      "|-- payment_type_id: long\n",
      "|-- fare_amount: double\n",
      "|-- extra_amount: double\n",
      "|-- mta_tax: double\n",
      "|-- tip_amount: double\n",
      "|-- tolls_amount: double\n",
      "|-- improvement_surcharge: double\n",
      "|-- total_amount: double\n",
      "|-- congestion_surcharge: double\n",
      "|-- airport_fee_amount: double\n",
      "|-- trip_id: string\n",
      "|-- pickup_date_id: int\n",
      "|-- dropoff_date_id: int\n",
      "|-- pickup_time_id: int\n",
      "|-- dropoff_time_id: int"
     ]
    }
   ],
   "source": [
    "dyf.printSchema()"
   ]
  },
  {
   "cell_type": "code",
   "execution_count": 14,
   "id": "4d540c7b-422e-4675-babf-379e719900b5",
   "metadata": {},
   "outputs": [
    {
     "data": {
      "application/vnd.jupyter.widget-view+json": {
       "model_id": "9a84c66034a24118a7baaf7c8c252698",
       "version_major": 2,
       "version_minor": 0
      },
      "text/plain": [
       "FloatProgress(value=0.0, bar_style='info', description='Progress:', layout=Layout(height='25px', width='50%'),…"
      ]
     },
     "metadata": {},
     "output_type": "display_data"
    }
   ],
   "source": [
    "dyf = dyf.apply_mapping([\n",
    "    ('trip_id', 'string', 'trip_id', 'string'),\n",
    "    ('vendor_id', 'long', 'vendor_id', 'int'),\n",
    "    ('pickup_date_id', 'int', 'pickup_date_id', 'int'),\n",
    "    ('pickup_time_id', 'int', 'pickup_time_id', 'int'),\n",
    "    ('dropoff_date_id', 'int', 'dropoff_date_id', 'int'),\n",
    "    ('dropoff_time_id', 'int', 'dropoff_time_id', 'int'),\n",
    "    ('passenger_count', 'double', 'passenger_count', 'int'),\n",
    "    ('trip_distance', 'float', 'trip_distance', 'float'),\n",
    "    ('pickup_location_id', 'long', 'pickup_location_id', 'int'),\n",
    "    ('dropoff_location_id', 'long', 'dropoff_location_id', 'int'),\n",
    "    ('rate_code_id', 'double', 'rate_code_id', 'int'),\n",
    "    ('store_and_forward', 'boolean', 'store_and_forward', 'boolean'),\n",
    "    ('payment_type_id', 'long', 'payment_type_id', 'int'),\n",
    "    ('fare_amount', 'double', 'fare_amount', 'int'),\n",
    "    ('extra_amount', 'double', 'extra_amount', 'float'),\n",
    "    ('mta_tax', 'double', 'mta_tax', 'float'),\n",
    "    ('tip_amount', 'double', 'tip_amount', 'float'),\n",
    "    ('tolls_amount', 'double', 'tolls_amount', 'float'),\n",
    "    ('improvement_surcharge', 'double', 'improvement_surcharge', 'float'),\n",
    "    ('congestion_surcharge', 'double', 'congestion_surcharge', 'float'),\n",
    "    ('airport_fee_amount', 'double', 'airport_fee_amount', 'float'),\n",
    "    ('total_amount', 'double', 'total_amount', 'float'),\n",
    "])"
   ]
  },
  {
   "cell_type": "code",
   "execution_count": 15,
   "id": "7876d990-3cb7-429f-91da-219608196d87",
   "metadata": {},
   "outputs": [
    {
     "data": {
      "application/vnd.jupyter.widget-view+json": {
       "model_id": "e6a60eba282d425a8f213b95f21b67ca",
       "version_major": 2,
       "version_minor": 0
      },
      "text/plain": [
       "FloatProgress(value=0.0, bar_style='info', description='Progress:', layout=Layout(height='25px', width='50%'),…"
      ]
     },
     "metadata": {},
     "output_type": "display_data"
    },
    {
     "name": "stdout",
     "output_type": "stream",
     "text": [
      "<awsglue.dynamicframe.DynamicFrame object at 0x7fabf1ba2fd0>"
     ]
    }
   ],
   "source": [
    "folder_path = '/'.join(file_key.split('/')[:-1])\n",
    "\n",
    "glueContext.write_dynamic_frame.from_options(\n",
    "    frame=dyf.repartition(2),\n",
    "    connection_type='s3',\n",
    "    format='csv',\n",
    "    connection_options={'path': f's3://{target_bucket}/{folder_path}'},\n",
    "    transformation_ctx='transformed_taxi_data_bucket',\n",
    ")"
   ]
  },
  {
   "cell_type": "code",
   "execution_count": 16,
   "id": "44d12509-a4a9-4857-b016-7f2900ccb486",
   "metadata": {},
   "outputs": [
    {
     "data": {
      "application/vnd.jupyter.widget-view+json": {
       "model_id": "9fa18ce5499d4616b81bd15a51d6ca19",
       "version_major": 2,
       "version_minor": 0
      },
      "text/plain": [
       "FloatProgress(value=0.0, bar_style='info', description='Progress:', layout=Layout(height='25px', width='50%'),…"
      ]
     },
     "metadata": {},
     "output_type": "display_data"
    },
    {
     "name": "stdout",
     "output_type": "stream",
     "text": [
      "\n",
      "Take this $5 pesitos\n",
      "(づ｡◕‿‿◕｡)づ [̲̅$̲̅(̲̅5̲̅)̲̅$̲̅]  (◕‿◕✿)\n",
      "\n",
      "What am I gonna do with only $5 pesitos?\n",
      "┻━┻ ︵ヽ(`Д´)ﾉ︵ ┻━┻\n",
      "\n",
      "Invest in Bolivares, it's going to the moon [̲̅$̲̅(̲̅5̲̅^1e10)̲̅$̲̅]\n",
      "(づ｡◕‿‿◕｡)づ\n",
      "\n",
      "But...\n",
      "(ಥ﹏ಥ)"
     ]
    }
   ],
   "source": [
    "job.commit() if is_prod else print(\"\"\"\n",
    "Take this $5 pesitos\n",
    "(づ｡◕‿‿◕｡)づ [̲̅$̲̅(̲̅5̲̅)̲̅$̲̅]  (◕‿◕✿)\n",
    "\n",
    "What am I gonna do with only $5 pesitos?\n",
    "┻━┻ ︵ヽ(`Д´)ﾉ︵ ┻━┻\n",
    "\n",
    "Invest in Bolivares, it's going to the moon [̲̅$̲̅(̲̅5̲̅^1e10)̲̅$̲̅]\n",
    "(づ｡◕‿‿◕｡)づ\n",
    "\n",
    "But...\n",
    "(ಥ﹏ಥ)\n",
    "\"\"\")"
   ]
  }
 ],
 "metadata": {
  "kernelspec": {
   "display_name": "PySpark",
   "language": "python",
   "name": "pysparkkernel"
  }
 },
 "nbformat": 4,
 "nbformat_minor": 5
}
