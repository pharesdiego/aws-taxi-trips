{
 "cells": [
  {
   "cell_type": "code",
   "execution_count": 558,
   "id": "c2e55a47-fe70-4bf1-b9a9-c1fb94645c78",
   "metadata": {},
   "outputs": [],
   "source": [
    "import pandas as pd\n",
    "from pyspark.sql import SparkSession\n",
    "\n",
    "# Spark session & context\n",
    "spark = SparkSession.builder.master(\"local\").getOrCreate()\n",
    "sc = spark.sparkContext"
   ]
  },
  {
   "cell_type": "code",
   "execution_count": 559,
   "id": "b4f96088-1cd3-401f-b5ca-7dc89c5fcfb3",
   "metadata": {},
   "outputs": [],
   "source": [
    "# !wget https://d37ci6vzurychx.cloudfront.net/trip-data/yellow_tripdata_2023-02.parquet"
   ]
  },
  {
   "cell_type": "code",
   "execution_count": 560,
   "id": "d44095f5-701e-479b-9257-c3f49bd09064",
   "metadata": {},
   "outputs": [],
   "source": [
    "df = spark.read.format('parquet').load('notebooks/yellow_tripdata_2023-02.parquet')"
   ]
  },
  {
   "cell_type": "code",
   "execution_count": 561,
   "id": "4cd72c0e-339c-430a-a713-ee1015bcb9a9",
   "metadata": {
    "tags": []
   },
   "outputs": [
    {
     "name": "stdout",
     "output_type": "stream",
     "text": [
      "root\n",
      " |-- VendorID: integer (nullable = true)\n",
      " |-- tpep_pickup_datetime: timestamp (nullable = true)\n",
      " |-- tpep_dropoff_datetime: timestamp (nullable = true)\n",
      " |-- passenger_count: long (nullable = true)\n",
      " |-- trip_distance: double (nullable = true)\n",
      " |-- RatecodeID: long (nullable = true)\n",
      " |-- store_and_fwd_flag: string (nullable = true)\n",
      " |-- PULocationID: integer (nullable = true)\n",
      " |-- DOLocationID: integer (nullable = true)\n",
      " |-- payment_type: long (nullable = true)\n",
      " |-- fare_amount: double (nullable = true)\n",
      " |-- extra: double (nullable = true)\n",
      " |-- mta_tax: double (nullable = true)\n",
      " |-- tip_amount: double (nullable = true)\n",
      " |-- tolls_amount: double (nullable = true)\n",
      " |-- improvement_surcharge: double (nullable = true)\n",
      " |-- total_amount: double (nullable = true)\n",
      " |-- congestion_surcharge: double (nullable = true)\n",
      " |-- Airport_fee: double (nullable = true)\n",
      "\n"
     ]
    }
   ],
   "source": [
    "df.printSchema()"
   ]
  },
  {
   "cell_type": "markdown",
   "id": "6006f65b-73e9-4b62-8b6d-b1d9c1c99ef1",
   "metadata": {
    "tags": []
   },
   "source": [
    "## Cleaning"
   ]
  },
  {
   "cell_type": "code",
   "execution_count": 562,
   "id": "8d02ccd6-f0a6-4694-9385-463a9a93f252",
   "metadata": {},
   "outputs": [],
   "source": [
    "from pyspark.sql.functions import when, col, udf, monotonically_increasing_id"
   ]
  },
  {
   "cell_type": "markdown",
   "id": "9562dbc1-bded-444a-bf09-e08e77b2662a",
   "metadata": {},
   "source": [
    "**Remove rows with null in important columns**"
   ]
  },
  {
   "cell_type": "code",
   "execution_count": 563,
   "id": "4a7cb858-9142-4cd0-a7f9-189b9518ddb0",
   "metadata": {},
   "outputs": [],
   "source": [
    "df = df.na.drop(subset=['total_amount', 'tpep_pickup_datetime', 'tpep_dropoff_datetime', 'PULocationID', 'DOLocationID', 'trip_distance'])"
   ]
  },
  {
   "cell_type": "markdown",
   "id": "c6e4e124",
   "metadata": {},
   "source": [
    "**Filter out-of-range values**"
   ]
  },
  {
   "cell_type": "code",
   "execution_count": 564,
   "id": "4de3d68b",
   "metadata": {},
   "outputs": [],
   "source": [
    "# [column, min_value, max_value]\n",
    "cols_ranges = [\n",
    "    ['passenger_count', '0', '6'],\n",
    "    ['fare_amount', '0.1', None],\n",
    "    ['extra', '0', None],\n",
    "    ['mta_tax', '0', None],\n",
    "    ['tip_amount', '0', None],\n",
    "    ['tolls_amount', '0', None],\n",
    "    ['improvement_surcharge', '0', None],\n",
    "    ['total_amount', '3', None],\n",
    "    ['congestion_surcharge', '0', None],\n",
    "    ['trip_distance', '0', '100'],\n",
    "    ['tpep_pickup_datetime', '\"2023-01-01\"', None],\n",
    "    ['tpep_dropoff_datetime', None, '\"2023-12-31\"']\n",
    "]\n",
    "\n",
    "filter_str = 'airport_fee = 1.25 OR airport_fee = 0 AND tpep_pickup_datetime < tpep_dropoff_datetime AND '\n",
    "\n",
    "for [col_name, min_value, max_value] in cols_ranges:\n",
    "    filter_str += f'{col_name} >= {min_value} AND ' if min_value != None else ''\n",
    "    filter_str += f'{col_name} <= {max_value} AND ' if max_value != None else ''\n",
    "    \n",
    "df = df.filter(filter_str[:-5])"
   ]
  },
  {
   "cell_type": "markdown",
   "id": "d68c84a2-d0a8-4736-b91d-96241bfaec7e",
   "metadata": {},
   "source": [
    "**Standardize columns name**"
   ]
  },
  {
   "cell_type": "code",
   "execution_count": 565,
   "id": "3193b1bd-c6d0-460f-90cc-87328bd89fe5",
   "metadata": {
    "scrolled": true
   },
   "outputs": [],
   "source": [
    "columns_to_be_renamed = [\n",
    "    ['VendorID', 'vendor_id'],\n",
    "    ['tpep_pickup_datetime', 'pickup_datetime'],\n",
    "    ['tpep_dropoff_datetime', 'dropoff_datetime'],\n",
    "    ['RatecodeID', 'rate_code_id'],\n",
    "    ['store_and_fwd_flag', 'store_and_forward'],\n",
    "    ['PULocationID', 'pickup_location_id'],\n",
    "    ['DOLocationID', 'dropoff_location_id'],\n",
    "    ['extra', 'extra_amount'],\n",
    "    ['Airport_fee', 'airport_fee_amount'],\n",
    "    ['payment_type', 'payment_type_id']\n",
    "]\n",
    "\n",
    "for [old_name, new_name] in columns_to_be_renamed:\n",
    "    df = df.withColumnRenamed(old_name, new_name)"
   ]
  },
  {
   "cell_type": "markdown",
   "id": "9464b444",
   "metadata": {},
   "source": [
    "**Cast types**"
   ]
  },
  {
   "cell_type": "code",
   "execution_count": 566,
   "id": "47f5eabb",
   "metadata": {},
   "outputs": [
    {
     "name": "stdout",
     "output_type": "stream",
     "text": [
      "root\n",
      " |-- vendor_id: integer (nullable = true)\n",
      " |-- pickup_datetime: timestamp (nullable = true)\n",
      " |-- dropoff_datetime: timestamp (nullable = true)\n",
      " |-- passenger_count: long (nullable = true)\n",
      " |-- trip_distance: double (nullable = true)\n",
      " |-- rate_code_id: long (nullable = true)\n",
      " |-- store_and_forward: string (nullable = true)\n",
      " |-- pickup_location_id: integer (nullable = true)\n",
      " |-- dropoff_location_id: integer (nullable = true)\n",
      " |-- payment_type_id: long (nullable = true)\n",
      " |-- fare_amount: double (nullable = true)\n",
      " |-- extra_amount: double (nullable = true)\n",
      " |-- mta_tax: double (nullable = true)\n",
      " |-- tip_amount: double (nullable = true)\n",
      " |-- tolls_amount: double (nullable = true)\n",
      " |-- improvement_surcharge: double (nullable = true)\n",
      " |-- total_amount: double (nullable = true)\n",
      " |-- congestion_surcharge: double (nullable = true)\n",
      " |-- airport_fee_amount: double (nullable = true)\n",
      "\n"
     ]
    }
   ],
   "source": [
    "from pyspark.sql.types import FloatType, IntegerType\n",
    "\n",
    "df.printSchema()"
   ]
  },
  {
   "cell_type": "code",
   "execution_count": 567,
   "id": "9a9ac831",
   "metadata": {},
   "outputs": [],
   "source": [
    "for [col_name, col_type] in df.dtypes:\n",
    "    if col_type == 'double':\n",
    "        df = df.withColumn(col_name, col(col_name).cast(FloatType()))\n",
    "\n",
    "    if col_type == 'bigint':\n",
    "        df = df.withColumn(col_name, col(col_name).cast(IntegerType()))"
   ]
  },
  {
   "cell_type": "code",
   "execution_count": 568,
   "id": "63777b59",
   "metadata": {},
   "outputs": [
    {
     "name": "stdout",
     "output_type": "stream",
     "text": [
      "root\n",
      " |-- vendor_id: integer (nullable = true)\n",
      " |-- pickup_datetime: timestamp (nullable = true)\n",
      " |-- dropoff_datetime: timestamp (nullable = true)\n",
      " |-- passenger_count: integer (nullable = true)\n",
      " |-- trip_distance: float (nullable = true)\n",
      " |-- rate_code_id: integer (nullable = true)\n",
      " |-- store_and_forward: string (nullable = true)\n",
      " |-- pickup_location_id: integer (nullable = true)\n",
      " |-- dropoff_location_id: integer (nullable = true)\n",
      " |-- payment_type_id: integer (nullable = true)\n",
      " |-- fare_amount: float (nullable = true)\n",
      " |-- extra_amount: float (nullable = true)\n",
      " |-- mta_tax: float (nullable = true)\n",
      " |-- tip_amount: float (nullable = true)\n",
      " |-- tolls_amount: float (nullable = true)\n",
      " |-- improvement_surcharge: float (nullable = true)\n",
      " |-- total_amount: float (nullable = true)\n",
      " |-- congestion_surcharge: float (nullable = true)\n",
      " |-- airport_fee_amount: float (nullable = true)\n",
      "\n"
     ]
    }
   ],
   "source": [
    "df.printSchema()"
   ]
  },
  {
   "cell_type": "markdown",
   "id": "d54e1690-2bfd-4581-b53a-d9a6686bf22e",
   "metadata": {},
   "source": [
    "**Outlier handling and tranformation**"
   ]
  },
  {
   "cell_type": "code",
   "execution_count": 569,
   "id": "e5285ffe-a2b7-4c02-a4e6-9a43c3185815",
   "metadata": {},
   "outputs": [],
   "source": [
    "def get_kilometers_from_miles(miles):\n",
    "    return float(\"{:.3f}\".format(miles * 1.60934))\n",
    "\n",
    "udf_get_kilometers_from_miles = udf(get_kilometers_from_miles, FloatType())\n",
    "\n",
    "df = df.withColumn('vendor_id', when(col('vendor_id').isin([1, 2]), col('vendor_id')).otherwise(None)) \\\n",
    "    .withColumn('store_and_forward', when(col('store_and_forward') == 'Y', True).otherwise(False)) \\\n",
    "    .withColumn('rate_code_id', when(col('rate_code_id').isin(list(range(1,7))), col('rate_code_id')).otherwise(None))  \\\n",
    "    .withColumn('payment_type_id', when(col('payment_type_id').isin(list(range(1,7))), col('payment_type_id')).otherwise(None)) \\\n",
    "    .withColumn('trip_distance', udf_get_kilometers_from_miles(col('trip_distance')))"
   ]
  },
  {
   "cell_type": "markdown",
   "id": "bd1d0699-3cf3-44be-9f2c-a7a373a6ca18",
   "metadata": {},
   "source": [
    "**Generate trip_id**"
   ]
  },
  {
   "cell_type": "code",
   "execution_count": 570,
   "id": "0eb5b270-b29d-45fa-b6a7-6a6ff93cb23f",
   "metadata": {},
   "outputs": [],
   "source": [
    "import uuid"
   ]
  },
  {
   "cell_type": "code",
   "execution_count": 571,
   "id": "fce95a97",
   "metadata": {},
   "outputs": [],
   "source": [
    "generate_trip_id = udf(lambda *cols: str(uuid.uuid5(uuid.NAMESPACE_DNS, '-'.join(str(col) for col in cols))))\n",
    "\n",
    "df = df.withColumn('trip_id', monotonically_increasing_id())\n",
    "\n",
    "columns_for_id_generation = [df[column] for column in df.columns]\n",
    "\n",
    "df = df.withColumn('trip_id', generate_trip_id(*columns_for_id_generation))"
   ]
  },
  {
   "cell_type": "markdown",
   "id": "c6f30f69",
   "metadata": {},
   "source": [
    "**Get dates and times id**"
   ]
  },
  {
   "cell_type": "code",
   "execution_count": 572,
   "id": "f2d746c9",
   "metadata": {},
   "outputs": [],
   "source": [
    "def get_date_id_from_datetime(dt):\n",
    "    return dt.timetuple().tm_yday - 1\n",
    "    \n",
    "def get_time_id_from_datetime(dt):\n",
    "    tt = dt.timetuple()\n",
    "    return tt.tm_hour * 3600 + tt.tm_min * 60 + tt.tm_sec\n",
    "\n",
    "udf_get_date_id_from_datetime = udf(get_date_id_from_datetime)\n",
    "udf_get_time_id_from_datetime = udf(get_time_id_from_datetime)\n",
    "\n",
    "df = df \\\n",
    "    .withColumn('pickup_date_id', udf_get_date_id_from_datetime(col('pickup_datetime')).cast(IntegerType())) \\\n",
    "    .withColumn('dropoff_date_id', udf_get_date_id_from_datetime(col('dropoff_datetime')).cast(IntegerType())) \\\n",
    "    .withColumn('pickup_time_id', udf_get_time_id_from_datetime(col('pickup_datetime')).cast(IntegerType())) \\\n",
    "    .withColumn('dropoff_time_id', udf_get_time_id_from_datetime(col('dropoff_datetime')).cast(IntegerType())) \n",
    "\n",
    "df = df.select(*filter(lambda c: '_datetime' not in c, df.columns))"
   ]
  },
  {
   "cell_type": "markdown",
   "id": "6546d3ee",
   "metadata": {},
   "source": [
    "**Rearrange columns**"
   ]
  },
  {
   "cell_type": "code",
   "execution_count": 573,
   "id": "df7e9357-e12f-4993-90cc-ffec364f7de5",
   "metadata": {
    "tags": []
   },
   "outputs": [],
   "source": [
    "df = df.select(*[\n",
    "    'trip_id',\n",
    "    'vendor_id',\n",
    "    'pickup_date_id',\n",
    "    'pickup_time_id',\n",
    "    'dropoff_date_id',\n",
    "    'dropoff_time_id',\n",
    "    'passenger_count',\n",
    "    'trip_distance',\n",
    "    'pickup_location_id',\n",
    "    'dropoff_location_id',\n",
    "    'rate_code_id',\n",
    "    'store_and_forward',\n",
    "    'payment_type_id',\n",
    "    'fare_amount',\n",
    "    'extra_amount',\n",
    "    'mta_tax',\n",
    "    'tip_amount',\n",
    "    'tolls_amount',\n",
    "    'improvement_surcharge',\n",
    "    'congestion_surcharge',\n",
    "    'airport_fee_amount',\n",
    "    'total_amount'\n",
    "])"
   ]
  },
  {
   "cell_type": "code",
   "execution_count": 574,
   "id": "494328c9",
   "metadata": {},
   "outputs": [
    {
     "name": "stdout",
     "output_type": "stream",
     "text": [
      "root\n",
      " |-- trip_id: string (nullable = true)\n",
      " |-- vendor_id: integer (nullable = true)\n",
      " |-- pickup_date_id: integer (nullable = true)\n",
      " |-- pickup_time_id: integer (nullable = true)\n",
      " |-- dropoff_date_id: integer (nullable = true)\n",
      " |-- dropoff_time_id: integer (nullable = true)\n",
      " |-- passenger_count: integer (nullable = true)\n",
      " |-- trip_distance: float (nullable = true)\n",
      " |-- pickup_location_id: integer (nullable = true)\n",
      " |-- dropoff_location_id: integer (nullable = true)\n",
      " |-- rate_code_id: integer (nullable = true)\n",
      " |-- store_and_forward: boolean (nullable = false)\n",
      " |-- payment_type_id: integer (nullable = true)\n",
      " |-- fare_amount: float (nullable = true)\n",
      " |-- extra_amount: float (nullable = true)\n",
      " |-- mta_tax: float (nullable = true)\n",
      " |-- tip_amount: float (nullable = true)\n",
      " |-- tolls_amount: float (nullable = true)\n",
      " |-- improvement_surcharge: float (nullable = true)\n",
      " |-- congestion_surcharge: float (nullable = true)\n",
      " |-- airport_fee_amount: float (nullable = true)\n",
      " |-- total_amount: float (nullable = true)\n",
      "\n"
     ]
    }
   ],
   "source": [
    "df.printSchema()"
   ]
  },
  {
   "cell_type": "code",
   "execution_count": 576,
   "id": "a3d3a94d-e89c-4705-8bdb-86087bf65b73",
   "metadata": {},
   "outputs": [],
   "source": [
    "df = df.repartition(10)\n",
    "df.write.csv('notebooks/csv', header=True)"
   ]
  },
  {
   "cell_type": "code",
   "execution_count": null,
   "id": "ed1af72a",
   "metadata": {},
   "outputs": [],
   "source": []
  }
 ],
 "metadata": {
  "kernelspec": {
   "display_name": "Python 3 (ipykernel)",
   "language": "python",
   "name": "python3"
  },
  "language_info": {
   "codemirror_mode": {
    "name": "ipython",
    "version": 3
   },
   "file_extension": ".py",
   "mimetype": "text/x-python",
   "name": "python",
   "nbconvert_exporter": "python",
   "pygments_lexer": "ipython3",
   "version": "3.10.10"
  }
 },
 "nbformat": 4,
 "nbformat_minor": 5
}
